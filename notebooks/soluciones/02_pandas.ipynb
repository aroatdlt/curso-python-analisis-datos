{
 "cells": [
  {
   "cell_type": "code",
   "execution_count": null,
   "metadata": {},
   "outputs": [],
   "source": [
    "# Ponemos como ruta principal la carpeta padre de \"soluciones\"\n",
    "# para que las rutas relativas queden igual que en la carpeta de notebooks\n",
    "import paths\n",
    "\n",
    "# Otras dependencias\n",
    "import pandas as pd"
   ]
  },
  {
   "cell_type": "markdown",
   "metadata": {},
   "source": [
    "### Ejercicio\n",
    "\n",
    "* Carga en un dataframe de pandas el csv `dat/alquiler-madrid-municipios.csv` en una variable que se llame `alquiler_municipios`\n",
    "* Examina las primeras y últimas filas\n",
    "* Extrae el número de filas y columnas"
   ]
  },
  {
   "cell_type": "code",
   "execution_count": null,
   "metadata": {},
   "outputs": [],
   "source": [
    "# Lectura en un dataframe del fichero CSV\n",
    "alquiler_municipios = pd.read_csv(\"dat/alquiler-madrid-distritos.csv\")\n",
    "\n",
    "# Examino las primeras filas\n",
    "alquiler_municipios.head()"
   ]
  },
  {
   "cell_type": "code",
   "execution_count": null,
   "metadata": {},
   "outputs": [],
   "source": [
    "# Examino las últimas filas\n",
    "alquiler_municipios.tail()"
   ]
  },
  {
   "cell_type": "code",
   "execution_count": null,
   "metadata": {},
   "outputs": [],
   "source": [
    "# Extraigo el número de filas y columnas: (filas, columnas)\n",
    "alquiler_municipios.shape"
   ]
  },
  {
   "cell_type": "markdown",
   "metadata": {},
   "source": [
    "#### Ejercicio\n",
    "\n",
    "* Muestra las primeras 5 filas usando `iloc`\n",
    "* Muestra las últimas 5 filas usando `iloc`"
   ]
  },
  {
   "cell_type": "code",
   "execution_count": null,
   "metadata": {},
   "outputs": [],
   "source": [
    "alquiler_municipios.iloc[0:5]"
   ]
  },
  {
   "cell_type": "code",
   "execution_count": null,
   "metadata": {},
   "outputs": [],
   "source": [
    "alquiler_municipios.iloc[-5:]"
   ]
  },
  {
   "cell_type": "markdown",
   "metadata": {},
   "source": [
    "#### Ejercicio\n",
    "\n",
    "Muestra sobre `alquiler_nuevo_indice` las filas para distrito `Retiro` y año 2012."
   ]
  },
  {
   "cell_type": "code",
   "execution_count": null,
   "metadata": {},
   "outputs": [],
   "source": [
    "alquiler_nuevo_indice = alquiler_municipios.set_index(['distrito', 'ano', 'quarter']).sort_index()"
   ]
  },
  {
   "cell_type": "code",
   "execution_count": null,
   "metadata": {},
   "outputs": [],
   "source": [
    "alquiler_nuevo_indice.loc[('Retiro', 2012)]"
   ]
  },
  {
   "cell_type": "markdown",
   "metadata": {},
   "source": [
    "#### Ejercicio\n",
    "\n",
    "Extrae los nombres de los distritos cuyo precio por metro cuadrado es superior a 15€ en el año y trimestre más reciente del que tenemos datos (míralo imprimiento las últimas filas de la tabla)."
   ]
  },
  {
   "cell_type": "code",
   "execution_count": null,
   "metadata": {},
   "outputs": [],
   "source": [
    "# 1. Imprime las últimas filas de la tabla\n",
    "alquiler_municipios.tail()"
   ]
  },
  {
   "cell_type": "code",
   "execution_count": null,
   "metadata": {},
   "outputs": [],
   "source": [
    "# 2. Haz el filtro. Una vez hecho, saca solo la columna distrito\n",
    "filtro_ultimos_datos = alquiler_municipios[(alquiler_municipios.precio >= 15)&(alquiler_municipios.quarter == 2)&(alquiler_municipios.ano == 2018)]"
   ]
  },
  {
   "cell_type": "code",
   "execution_count": null,
   "metadata": {},
   "outputs": [],
   "source": [
    "filtro_ultimos_datos"
   ]
  },
  {
   "cell_type": "code",
   "execution_count": null,
   "metadata": {},
   "outputs": [],
   "source": [
    "filtro_ultimos_datos['distrito']"
   ]
  },
  {
   "cell_type": "markdown",
   "metadata": {},
   "source": [
    "#### Ejercicio\n",
    "\n",
    "Extrae de mayor a menor por precio las filas de la tabla para Tetuán a partir del año 2017."
   ]
  },
  {
   "cell_type": "code",
   "execution_count": null,
   "metadata": {},
   "outputs": [],
   "source": [
    "#Generamos el filtro para recoger los datos de Tetúan a partir del 2017\n",
    "filtro_tetuan = alquiler_municipios[(alquiler_municipios.distrito == 'Tetuan')&(alquiler_municipios.ano >= 2017)]\n",
    "#Ordenadamos de mayor a menor por precio las filas filtradas\n",
    "filtro_tetuan.sort_values(['precio'], ascending=False)"
   ]
  },
  {
   "cell_type": "markdown",
   "metadata": {},
   "source": [
    "#### Ejercicio\n",
    "\n",
    "Crea una nueva columna `precio_120m` sobre `alquiler_2` que represente el precio de 120 metros cuadrados, pero utilizando `apply` y una función `lambda`."
   ]
  },
  {
   "cell_type": "code",
   "execution_count": null,
   "metadata": {},
   "outputs": [],
   "source": [
    "#Hacemos una copia de los datos\n",
    "alquiler_2 = alquiler_municipios.copy()\n",
    "#Generamos la nueva columna con el precio total de 120m cuadrados\n",
    "alquiler_2['precio_120m'] = alquiler_2.apply(lambda fila: fila.precio * 120, axis=1)\n",
    "#Comprobamos el resultado con las primeras filas\n",
    "alquiler_2.head()"
   ]
  },
  {
   "cell_type": "markdown",
   "metadata": {},
   "source": [
    "#### Ejercicio\n",
    "\n",
    "Extrae los cuantiles 0.1 y 0.9 del precio para el distrito `Tetuan`."
   ]
  },
  {
   "cell_type": "code",
   "execution_count": null,
   "metadata": {},
   "outputs": [],
   "source": [
    "#Generamos el filtro de los precios de Tetúan\n",
    "filtro_tetuan = alquiler_municipios[(alquiler_municipios.distrito == 'Tetuan')]\n",
    "#Extraemos los cuantiles 0.1 y 0.9\n",
    "filtro_tetuan[['precio']].quantile([.1, .9])"
   ]
  },
  {
   "cell_type": "markdown",
   "metadata": {},
   "source": [
    "#### Ejercicio\n",
    "\n",
    "Extrae el precio máximo histórico para cada distrito a partir del 2010"
   ]
  },
  {
   "cell_type": "code",
   "execution_count": null,
   "metadata": {},
   "outputs": [],
   "source": [
    "filtro_ano = alquiler_municipios[(alquiler_municipios.ano >= 2010)] \n",
    "filtro_ano.groupby('distrito').precio.max()"
   ]
  },
  {
   "cell_type": "markdown",
   "metadata": {},
   "source": [
    "#### Ejercicio\n",
    "\n",
    "* Carga en un DataFrame el CSV `dat/venta-madrid-distritos.csv`\n",
    "* Crúzalo con el que ya tenemos de alquiler. El objetivo es tener, para cada distrito, año y cuatrimestre, tanto el precio de alquiler como el de venta del metro cuadrado. Para saber cómo poner sufijos a las columnas que colisionan en el cruce, mira la documentación de `merge`.\n",
    "* Extrae los precios medios de venta y alquiler por distrito para todo el histórico\n",
    "* Extrae, para el año y cuatrimestre más reciente del que haya datos, el distrito donde es más rentable comprar una vivienda para destinarla a alquiler. Es decir, con el ratio precio alquiler / precio venta más alto."
   ]
  },
  {
   "cell_type": "code",
   "execution_count": null,
   "metadata": {},
   "outputs": [],
   "source": [
    "#Cargamos el data frame \n",
    "venta_madrid_distritos = pd.read_csv(\"dat/venta-madrid-distritos.csv\")\n",
    "#Mergeamos los datos\n",
    "datos_totales = pd.merge(alquiler_municipios, venta_madrid_distritos, how='inner', on=['distrito', 'ano', 'quarter'])\n",
    "#Extraemos los precios medios de venta y alquiler\n",
    "datos_totales.groupby('distrito').agg({'precio_x': ['mean'], 'precio_y': ['mean']}).head()"
   ]
  },
  {
   "cell_type": "code",
   "execution_count": null,
   "metadata": {},
   "outputs": [],
   "source": [
    "#Extraemos el ratio precio alquiler/precio venta más alto\n",
    "#Generamos la columna con todos los ratios\n",
    "datos_totales[\"ratio precio alq/vent\"] = datos_totales[\"precio_x\"]/ datos_totales[\"precio_y\"]\n",
    "#Buscamos el año y cuatrimestre más reciente\n",
    "datos_totales.tail().iloc[0:5]\n",
    "#Hacemos un filtro con los datos del año y cuatrimestre más reciente\n",
    "datos_filtrados_totales = datos_totales[(datos_totales.ano == 2018)&(datos_totales.quarter == 2)] \n",
    "#Extraemos el distrito más rentable\n",
    "datos_filtrados_totales.loc[datos_filtrados_totales['ratio precio alq/vent'].idxmax()]"
   ]
  },
  {
   "cell_type": "code",
   "execution_count": null,
   "metadata": {},
   "outputs": [],
   "source": []
  }
 ],
 "metadata": {
  "kernelspec": {
   "display_name": "Python 3",
   "language": "python",
   "name": "python3"
  },
  "language_info": {
   "codemirror_mode": {
    "name": "ipython",
    "version": 3
   },
   "file_extension": ".py",
   "mimetype": "text/x-python",
   "name": "python",
   "nbconvert_exporter": "python",
   "pygments_lexer": "ipython3",
   "version": "3.7.2"
  }
 },
 "nbformat": 4,
 "nbformat_minor": 4
}
